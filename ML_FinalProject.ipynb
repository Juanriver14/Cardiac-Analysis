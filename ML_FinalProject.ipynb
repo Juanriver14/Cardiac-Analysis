{
  "nbformat": 4,
  "nbformat_minor": 0,
  "metadata": {
    "colab": {
      "name": "ML_FinalProject.ipynb",
      "provenance": [],
      "include_colab_link": true
    },
    "kernelspec": {
      "name": "python3",
      "display_name": "Python 3"
    },
    "language_info": {
      "name": "python"
    }
  },
  "cells": [
    {
      "cell_type": "markdown",
      "metadata": {
        "id": "view-in-github",
        "colab_type": "text"
      },
      "source": [
        "<a href=\"https://colab.research.google.com/github/Juanriver14/Datasets/blob/main/ML_FinalProject.ipynb\" target=\"_parent\"><img src=\"https://colab.research.google.com/assets/colab-badge.svg\" alt=\"Open In Colab\"/></a>"
      ]
    },
    {
      "cell_type": "code",
      "execution_count": null,
      "metadata": {
        "id": "2nO0vSSfNa6f"
      },
      "outputs": [],
      "source": [
        "import pandas as pd\n",
        "import matplotlib.pyplot as plt\n",
        "import numpy as np\n",
        "from sklearn.metrics import accuracy_score\n",
        "\n"
      ]
    },
    {
      "cell_type": "markdown",
      "source": [
        "https://raw.githubusercontent.com/Juanriver14/Datasets/main/SPECTF_train.csv\n",
        "\n",
        "https://raw.githubusercontent.com/Juanriver14/Datasets/main/SPECTF_test.csv"
      ],
      "metadata": {
        "id": "ol_bctCng9wA"
      }
    },
    {
      "cell_type": "code",
      "source": [
        "\n",
        "url = 'https://raw.githubusercontent.com/Juanriver14/Datasets/main/SPECTF_train.csv'\n",
        "df = pd.read_csv(url)\n",
        "\n"
      ],
      "metadata": {
        "id": "fR2dAR1ygnN2"
      },
      "execution_count": null,
      "outputs": []
    },
    {
      "cell_type": "code",
      "source": [
        "\n",
        "df.head"
      ],
      "metadata": {
        "colab": {
          "base_uri": "https://localhost:8080/"
        },
        "id": "wjnyTEx_hP2d",
        "outputId": "3a8dea65-4a0b-4cdf-9f44-6fd209343a32"
      },
      "execution_count": null,
      "outputs": [
        {
          "output_type": "execute_result",
          "data": {
            "text/plain": [
              "<bound method NDFrame.head of     1  59  52  70  67  73  66  72  61  58  ...  66.3  56.1  62  56.2  72.3  \\\n",
              "0   1  72  62  69  67  78  82  74  65  69  ...    65    71  63    60    69   \n",
              "1   1  71  62  70  64  67  64  79  65  70  ...    73    70  66    65    64   \n",
              "2   1  69  71  70  78  61  63  67  65  59  ...    61    61  66    65    72   \n",
              "3   1  70  66  61  66  61  58  69  69  72  ...    67    69  70    66    70   \n",
              "4   1  57  69  68  75  69  74  73  71  57  ...    63    58  69    67    79   \n",
              ".. ..  ..  ..  ..  ..  ..  ..  ..  ..  ..  ...   ...   ...  ..   ...   ...   \n",
              "74  0  70  75  72  72  67  71  71  78  63  ...    66    67  68    70    70   \n",
              "75  0  59  57  67  71  66  68  68  70  56  ...    62    64  56    53    71   \n",
              "76  0  67  64  73  75  77  77  74  70  65  ...    61    64  65    60    68   \n",
              "77  0  68  65  72  72  47  74  76  74  67  ...    64    69  71    73    73   \n",
              "78  0  66  54  69  66  69  69  75  72  63  ...    69    65  65    64    67   \n",
              "\n",
              "    62.1  74.2  74.3  64.1  67.4  \n",
              "0     73    67    71    56    58  \n",
              "1     55    61    41    51    46  \n",
              "2     73    68    68    59    63  \n",
              "3     64    60    55    49    41  \n",
              "4     77    72    70    61    65  \n",
              "..   ...   ...   ...   ...   ...  \n",
              "74    71    64    67    56    54  \n",
              "75    68    64    63    56    56  \n",
              "76    75    74    80    67    68  \n",
              "77    75    68    56    58    44  \n",
              "78    69    71    68    59    59  \n",
              "\n",
              "[79 rows x 45 columns]>"
            ]
          },
          "metadata": {},
          "execution_count": 39
        }
      ]
    },
    {
      "cell_type": "code",
      "source": [
        "df.shape\n"
      ],
      "metadata": {
        "colab": {
          "base_uri": "https://localhost:8080/"
        },
        "id": "BlA0PfdweMi9",
        "outputId": "d3523172-bdc3-489e-cd3f-26d2b76d3840"
      },
      "execution_count": null,
      "outputs": [
        {
          "output_type": "execute_result",
          "data": {
            "text/plain": [
              "(79, 45)"
            ]
          },
          "metadata": {},
          "execution_count": 40
        }
      ]
    },
    {
      "cell_type": "code",
      "source": [
        "# Drop 1\n",
        "target=df[['1']]\n",
        "df=df.drop(labels='1',axis=1)"
      ],
      "metadata": {
        "id": "FcAzNB0KeNiu"
      },
      "execution_count": null,
      "outputs": []
    },
    {
      "cell_type": "code",
      "source": [
        "column_head=[(lambda x,y: \"F\"+str(x)+y) (x,y) for x in range(1,23) for y in ['R','S']]"
      ],
      "metadata": {
        "id": "yjKufiOEeTHW"
      },
      "execution_count": null,
      "outputs": []
    },
    {
      "cell_type": "code",
      "source": [
        "df.columns=column_head"
      ],
      "metadata": {
        "id": "xemW_YD0eU-Y"
      },
      "execution_count": null,
      "outputs": []
    },
    {
      "cell_type": "code",
      "source": [
        "\n",
        "url = 'https://raw.githubusercontent.com/Juanriver14/Datasets/main/SPECTF_test.csv'\n",
        "dft = pd.read_csv(url)"
      ],
      "metadata": {
        "id": "47Ybu4ZVeb-W"
      },
      "execution_count": null,
      "outputs": []
    },
    {
      "cell_type": "code",
      "source": [
        "# Get a feel for test set\n",
        "dft.head()"
      ],
      "metadata": {
        "colab": {
          "base_uri": "https://localhost:8080/",
          "height": 235
        },
        "id": "StaI5RH3ef0G",
        "outputId": "da81865e-509f-473e-b30e-9e49833bef8f"
      },
      "execution_count": null,
      "outputs": [
        {
          "output_type": "execute_result",
          "data": {
            "text/plain": [
              "   1   67   68   73   78   65   63   67.1   60   63.1  ...   61.2   56.1  \\\n",
              "0  1   75   74   71   71   62   58     70   64     71  ...     66     62   \n",
              "1  1   83   64   66   67   67   74     74   72     64  ...     67     64   \n",
              "2  1   72   66   65   65   64   61     71   78     73  ...     69     68   \n",
              "3  1   62   60   69   61   63   63     70   68     70  ...     66     66   \n",
              "4  1   68   63   67   67   65   72     74   72     70  ...     70     70   \n",
              "\n",
              "    76.3   75.1   74.1   77   76.4   74.2   59.1   68.3  \n",
              "0     68     69     69   66     64     58     57     52  \n",
              "1     69     63     68   54     65     64     43     42  \n",
              "2     68     63     71   72     65     63     58     60  \n",
              "3     58     56     72   73     71     64     49     42  \n",
              "4     70     67     77   71     77     72     68     59  \n",
              "\n",
              "[5 rows x 45 columns]"
            ],
            "text/html": [
              "\n",
              "  <div id=\"df-ff8dd87e-5b10-4a4a-ba26-bdb35bcc4684\">\n",
              "    <div class=\"colab-df-container\">\n",
              "      <div>\n",
              "<style scoped>\n",
              "    .dataframe tbody tr th:only-of-type {\n",
              "        vertical-align: middle;\n",
              "    }\n",
              "\n",
              "    .dataframe tbody tr th {\n",
              "        vertical-align: top;\n",
              "    }\n",
              "\n",
              "    .dataframe thead th {\n",
              "        text-align: right;\n",
              "    }\n",
              "</style>\n",
              "<table border=\"1\" class=\"dataframe\">\n",
              "  <thead>\n",
              "    <tr style=\"text-align: right;\">\n",
              "      <th></th>\n",
              "      <th>1</th>\n",
              "      <th>67</th>\n",
              "      <th>68</th>\n",
              "      <th>73</th>\n",
              "      <th>78</th>\n",
              "      <th>65</th>\n",
              "      <th>63</th>\n",
              "      <th>67.1</th>\n",
              "      <th>60</th>\n",
              "      <th>63.1</th>\n",
              "      <th>...</th>\n",
              "      <th>61.2</th>\n",
              "      <th>56.1</th>\n",
              "      <th>76.3</th>\n",
              "      <th>75.1</th>\n",
              "      <th>74.1</th>\n",
              "      <th>77</th>\n",
              "      <th>76.4</th>\n",
              "      <th>74.2</th>\n",
              "      <th>59.1</th>\n",
              "      <th>68.3</th>\n",
              "    </tr>\n",
              "  </thead>\n",
              "  <tbody>\n",
              "    <tr>\n",
              "      <th>0</th>\n",
              "      <td>1</td>\n",
              "      <td>75</td>\n",
              "      <td>74</td>\n",
              "      <td>71</td>\n",
              "      <td>71</td>\n",
              "      <td>62</td>\n",
              "      <td>58</td>\n",
              "      <td>70</td>\n",
              "      <td>64</td>\n",
              "      <td>71</td>\n",
              "      <td>...</td>\n",
              "      <td>66</td>\n",
              "      <td>62</td>\n",
              "      <td>68</td>\n",
              "      <td>69</td>\n",
              "      <td>69</td>\n",
              "      <td>66</td>\n",
              "      <td>64</td>\n",
              "      <td>58</td>\n",
              "      <td>57</td>\n",
              "      <td>52</td>\n",
              "    </tr>\n",
              "    <tr>\n",
              "      <th>1</th>\n",
              "      <td>1</td>\n",
              "      <td>83</td>\n",
              "      <td>64</td>\n",
              "      <td>66</td>\n",
              "      <td>67</td>\n",
              "      <td>67</td>\n",
              "      <td>74</td>\n",
              "      <td>74</td>\n",
              "      <td>72</td>\n",
              "      <td>64</td>\n",
              "      <td>...</td>\n",
              "      <td>67</td>\n",
              "      <td>64</td>\n",
              "      <td>69</td>\n",
              "      <td>63</td>\n",
              "      <td>68</td>\n",
              "      <td>54</td>\n",
              "      <td>65</td>\n",
              "      <td>64</td>\n",
              "      <td>43</td>\n",
              "      <td>42</td>\n",
              "    </tr>\n",
              "    <tr>\n",
              "      <th>2</th>\n",
              "      <td>1</td>\n",
              "      <td>72</td>\n",
              "      <td>66</td>\n",
              "      <td>65</td>\n",
              "      <td>65</td>\n",
              "      <td>64</td>\n",
              "      <td>61</td>\n",
              "      <td>71</td>\n",
              "      <td>78</td>\n",
              "      <td>73</td>\n",
              "      <td>...</td>\n",
              "      <td>69</td>\n",
              "      <td>68</td>\n",
              "      <td>68</td>\n",
              "      <td>63</td>\n",
              "      <td>71</td>\n",
              "      <td>72</td>\n",
              "      <td>65</td>\n",
              "      <td>63</td>\n",
              "      <td>58</td>\n",
              "      <td>60</td>\n",
              "    </tr>\n",
              "    <tr>\n",
              "      <th>3</th>\n",
              "      <td>1</td>\n",
              "      <td>62</td>\n",
              "      <td>60</td>\n",
              "      <td>69</td>\n",
              "      <td>61</td>\n",
              "      <td>63</td>\n",
              "      <td>63</td>\n",
              "      <td>70</td>\n",
              "      <td>68</td>\n",
              "      <td>70</td>\n",
              "      <td>...</td>\n",
              "      <td>66</td>\n",
              "      <td>66</td>\n",
              "      <td>58</td>\n",
              "      <td>56</td>\n",
              "      <td>72</td>\n",
              "      <td>73</td>\n",
              "      <td>71</td>\n",
              "      <td>64</td>\n",
              "      <td>49</td>\n",
              "      <td>42</td>\n",
              "    </tr>\n",
              "    <tr>\n",
              "      <th>4</th>\n",
              "      <td>1</td>\n",
              "      <td>68</td>\n",
              "      <td>63</td>\n",
              "      <td>67</td>\n",
              "      <td>67</td>\n",
              "      <td>65</td>\n",
              "      <td>72</td>\n",
              "      <td>74</td>\n",
              "      <td>72</td>\n",
              "      <td>70</td>\n",
              "      <td>...</td>\n",
              "      <td>70</td>\n",
              "      <td>70</td>\n",
              "      <td>70</td>\n",
              "      <td>67</td>\n",
              "      <td>77</td>\n",
              "      <td>71</td>\n",
              "      <td>77</td>\n",
              "      <td>72</td>\n",
              "      <td>68</td>\n",
              "      <td>59</td>\n",
              "    </tr>\n",
              "  </tbody>\n",
              "</table>\n",
              "<p>5 rows × 45 columns</p>\n",
              "</div>\n",
              "      <button class=\"colab-df-convert\" onclick=\"convertToInteractive('df-ff8dd87e-5b10-4a4a-ba26-bdb35bcc4684')\"\n",
              "              title=\"Convert this dataframe to an interactive table.\"\n",
              "              style=\"display:none;\">\n",
              "        \n",
              "  <svg xmlns=\"http://www.w3.org/2000/svg\" height=\"24px\"viewBox=\"0 0 24 24\"\n",
              "       width=\"24px\">\n",
              "    <path d=\"M0 0h24v24H0V0z\" fill=\"none\"/>\n",
              "    <path d=\"M18.56 5.44l.94 2.06.94-2.06 2.06-.94-2.06-.94-.94-2.06-.94 2.06-2.06.94zm-11 1L8.5 8.5l.94-2.06 2.06-.94-2.06-.94L8.5 2.5l-.94 2.06-2.06.94zm10 10l.94 2.06.94-2.06 2.06-.94-2.06-.94-.94-2.06-.94 2.06-2.06.94z\"/><path d=\"M17.41 7.96l-1.37-1.37c-.4-.4-.92-.59-1.43-.59-.52 0-1.04.2-1.43.59L10.3 9.45l-7.72 7.72c-.78.78-.78 2.05 0 2.83L4 21.41c.39.39.9.59 1.41.59.51 0 1.02-.2 1.41-.59l7.78-7.78 2.81-2.81c.8-.78.8-2.07 0-2.86zM5.41 20L4 18.59l7.72-7.72 1.47 1.35L5.41 20z\"/>\n",
              "  </svg>\n",
              "      </button>\n",
              "      \n",
              "  <style>\n",
              "    .colab-df-container {\n",
              "      display:flex;\n",
              "      flex-wrap:wrap;\n",
              "      gap: 12px;\n",
              "    }\n",
              "\n",
              "    .colab-df-convert {\n",
              "      background-color: #E8F0FE;\n",
              "      border: none;\n",
              "      border-radius: 50%;\n",
              "      cursor: pointer;\n",
              "      display: none;\n",
              "      fill: #1967D2;\n",
              "      height: 32px;\n",
              "      padding: 0 0 0 0;\n",
              "      width: 32px;\n",
              "    }\n",
              "\n",
              "    .colab-df-convert:hover {\n",
              "      background-color: #E2EBFA;\n",
              "      box-shadow: 0px 1px 2px rgba(60, 64, 67, 0.3), 0px 1px 3px 1px rgba(60, 64, 67, 0.15);\n",
              "      fill: #174EA6;\n",
              "    }\n",
              "\n",
              "    [theme=dark] .colab-df-convert {\n",
              "      background-color: #3B4455;\n",
              "      fill: #D2E3FC;\n",
              "    }\n",
              "\n",
              "    [theme=dark] .colab-df-convert:hover {\n",
              "      background-color: #434B5C;\n",
              "      box-shadow: 0px 1px 3px 1px rgba(0, 0, 0, 0.15);\n",
              "      filter: drop-shadow(0px 1px 2px rgba(0, 0, 0, 0.3));\n",
              "      fill: #FFFFFF;\n",
              "    }\n",
              "  </style>\n",
              "\n",
              "      <script>\n",
              "        const buttonEl =\n",
              "          document.querySelector('#df-ff8dd87e-5b10-4a4a-ba26-bdb35bcc4684 button.colab-df-convert');\n",
              "        buttonEl.style.display =\n",
              "          google.colab.kernel.accessAllowed ? 'block' : 'none';\n",
              "\n",
              "        async function convertToInteractive(key) {\n",
              "          const element = document.querySelector('#df-ff8dd87e-5b10-4a4a-ba26-bdb35bcc4684');\n",
              "          const dataTable =\n",
              "            await google.colab.kernel.invokeFunction('convertToInteractive',\n",
              "                                                     [key], {});\n",
              "          if (!dataTable) return;\n",
              "\n",
              "          const docLinkHtml = 'Like what you see? Visit the ' +\n",
              "            '<a target=\"_blank\" href=https://colab.research.google.com/notebooks/data_table.ipynb>data table notebook</a>'\n",
              "            + ' to learn more about interactive tables.';\n",
              "          element.innerHTML = '';\n",
              "          dataTable['output_type'] = 'display_data';\n",
              "          await google.colab.output.renderOutput(dataTable, element);\n",
              "          const docLink = document.createElement('div');\n",
              "          docLink.innerHTML = docLinkHtml;\n",
              "          element.appendChild(docLink);\n",
              "        }\n",
              "      </script>\n",
              "    </div>\n",
              "  </div>\n",
              "  "
            ]
          },
          "metadata": {},
          "execution_count": 45
        }
      ]
    },
    {
      "cell_type": "code",
      "source": [
        "dft.shape"
      ],
      "metadata": {
        "colab": {
          "base_uri": "https://localhost:8080/"
        },
        "id": "1izV_2xqepLS",
        "outputId": "2203645a-bfb0-451d-a8da-01ef142a28bd"
      },
      "execution_count": null,
      "outputs": [
        {
          "output_type": "execute_result",
          "data": {
            "text/plain": [
              "(186, 45)"
            ]
          },
          "metadata": {},
          "execution_count": 46
        }
      ]
    },
    {
      "cell_type": "code",
      "source": [
        "# Use dropped \n",
        "test_target=dft[['1']]\n",
        "dft=dft.drop(labels='1',axis=1)\n",
        "column_head=[(lambda x,y: \"F\"+str(x)+y) (x,y) for x in range(1,23) for y in ['R','S']]\n",
        "dft.columns=column_head"
      ],
      "metadata": {
        "id": "cxQO8Hwze7r-"
      },
      "execution_count": null,
      "outputs": []
    },
    {
      "cell_type": "code",
      "source": [
        "dft.head(2)"
      ],
      "metadata": {
        "colab": {
          "base_uri": "https://localhost:8080/",
          "height": 141
        },
        "id": "UsEZIE0Ie9nW",
        "outputId": "f55095f5-c389-47cd-e1cb-5dc00c86f75b"
      },
      "execution_count": null,
      "outputs": [
        {
          "output_type": "execute_result",
          "data": {
            "text/plain": [
              "   F1R  F1S  F2R  F2S  F3R  F3S  F4R  F4S  F5R  F5S  ...  F18R  F18S  F19R  \\\n",
              "0   75   74   71   71   62   58   70   64   71   68  ...    66    62    68   \n",
              "1   83   64   66   67   67   74   74   72   64   68  ...    67    64    69   \n",
              "\n",
              "   F19S  F20R  F20S  F21R  F21S  F22R  F22S  \n",
              "0    69    69    66    64    58    57    52  \n",
              "1    63    68    54    65    64    43    42  \n",
              "\n",
              "[2 rows x 44 columns]"
            ],
            "text/html": [
              "\n",
              "  <div id=\"df-f19fd11b-9141-4363-81c6-af4cd047a717\">\n",
              "    <div class=\"colab-df-container\">\n",
              "      <div>\n",
              "<style scoped>\n",
              "    .dataframe tbody tr th:only-of-type {\n",
              "        vertical-align: middle;\n",
              "    }\n",
              "\n",
              "    .dataframe tbody tr th {\n",
              "        vertical-align: top;\n",
              "    }\n",
              "\n",
              "    .dataframe thead th {\n",
              "        text-align: right;\n",
              "    }\n",
              "</style>\n",
              "<table border=\"1\" class=\"dataframe\">\n",
              "  <thead>\n",
              "    <tr style=\"text-align: right;\">\n",
              "      <th></th>\n",
              "      <th>F1R</th>\n",
              "      <th>F1S</th>\n",
              "      <th>F2R</th>\n",
              "      <th>F2S</th>\n",
              "      <th>F3R</th>\n",
              "      <th>F3S</th>\n",
              "      <th>F4R</th>\n",
              "      <th>F4S</th>\n",
              "      <th>F5R</th>\n",
              "      <th>F5S</th>\n",
              "      <th>...</th>\n",
              "      <th>F18R</th>\n",
              "      <th>F18S</th>\n",
              "      <th>F19R</th>\n",
              "      <th>F19S</th>\n",
              "      <th>F20R</th>\n",
              "      <th>F20S</th>\n",
              "      <th>F21R</th>\n",
              "      <th>F21S</th>\n",
              "      <th>F22R</th>\n",
              "      <th>F22S</th>\n",
              "    </tr>\n",
              "  </thead>\n",
              "  <tbody>\n",
              "    <tr>\n",
              "      <th>0</th>\n",
              "      <td>75</td>\n",
              "      <td>74</td>\n",
              "      <td>71</td>\n",
              "      <td>71</td>\n",
              "      <td>62</td>\n",
              "      <td>58</td>\n",
              "      <td>70</td>\n",
              "      <td>64</td>\n",
              "      <td>71</td>\n",
              "      <td>68</td>\n",
              "      <td>...</td>\n",
              "      <td>66</td>\n",
              "      <td>62</td>\n",
              "      <td>68</td>\n",
              "      <td>69</td>\n",
              "      <td>69</td>\n",
              "      <td>66</td>\n",
              "      <td>64</td>\n",
              "      <td>58</td>\n",
              "      <td>57</td>\n",
              "      <td>52</td>\n",
              "    </tr>\n",
              "    <tr>\n",
              "      <th>1</th>\n",
              "      <td>83</td>\n",
              "      <td>64</td>\n",
              "      <td>66</td>\n",
              "      <td>67</td>\n",
              "      <td>67</td>\n",
              "      <td>74</td>\n",
              "      <td>74</td>\n",
              "      <td>72</td>\n",
              "      <td>64</td>\n",
              "      <td>68</td>\n",
              "      <td>...</td>\n",
              "      <td>67</td>\n",
              "      <td>64</td>\n",
              "      <td>69</td>\n",
              "      <td>63</td>\n",
              "      <td>68</td>\n",
              "      <td>54</td>\n",
              "      <td>65</td>\n",
              "      <td>64</td>\n",
              "      <td>43</td>\n",
              "      <td>42</td>\n",
              "    </tr>\n",
              "  </tbody>\n",
              "</table>\n",
              "<p>2 rows × 44 columns</p>\n",
              "</div>\n",
              "      <button class=\"colab-df-convert\" onclick=\"convertToInteractive('df-f19fd11b-9141-4363-81c6-af4cd047a717')\"\n",
              "              title=\"Convert this dataframe to an interactive table.\"\n",
              "              style=\"display:none;\">\n",
              "        \n",
              "  <svg xmlns=\"http://www.w3.org/2000/svg\" height=\"24px\"viewBox=\"0 0 24 24\"\n",
              "       width=\"24px\">\n",
              "    <path d=\"M0 0h24v24H0V0z\" fill=\"none\"/>\n",
              "    <path d=\"M18.56 5.44l.94 2.06.94-2.06 2.06-.94-2.06-.94-.94-2.06-.94 2.06-2.06.94zm-11 1L8.5 8.5l.94-2.06 2.06-.94-2.06-.94L8.5 2.5l-.94 2.06-2.06.94zm10 10l.94 2.06.94-2.06 2.06-.94-2.06-.94-.94-2.06-.94 2.06-2.06.94z\"/><path d=\"M17.41 7.96l-1.37-1.37c-.4-.4-.92-.59-1.43-.59-.52 0-1.04.2-1.43.59L10.3 9.45l-7.72 7.72c-.78.78-.78 2.05 0 2.83L4 21.41c.39.39.9.59 1.41.59.51 0 1.02-.2 1.41-.59l7.78-7.78 2.81-2.81c.8-.78.8-2.07 0-2.86zM5.41 20L4 18.59l7.72-7.72 1.47 1.35L5.41 20z\"/>\n",
              "  </svg>\n",
              "      </button>\n",
              "      \n",
              "  <style>\n",
              "    .colab-df-container {\n",
              "      display:flex;\n",
              "      flex-wrap:wrap;\n",
              "      gap: 12px;\n",
              "    }\n",
              "\n",
              "    .colab-df-convert {\n",
              "      background-color: #E8F0FE;\n",
              "      border: none;\n",
              "      border-radius: 50%;\n",
              "      cursor: pointer;\n",
              "      display: none;\n",
              "      fill: #1967D2;\n",
              "      height: 32px;\n",
              "      padding: 0 0 0 0;\n",
              "      width: 32px;\n",
              "    }\n",
              "\n",
              "    .colab-df-convert:hover {\n",
              "      background-color: #E2EBFA;\n",
              "      box-shadow: 0px 1px 2px rgba(60, 64, 67, 0.3), 0px 1px 3px 1px rgba(60, 64, 67, 0.15);\n",
              "      fill: #174EA6;\n",
              "    }\n",
              "\n",
              "    [theme=dark] .colab-df-convert {\n",
              "      background-color: #3B4455;\n",
              "      fill: #D2E3FC;\n",
              "    }\n",
              "\n",
              "    [theme=dark] .colab-df-convert:hover {\n",
              "      background-color: #434B5C;\n",
              "      box-shadow: 0px 1px 3px 1px rgba(0, 0, 0, 0.15);\n",
              "      filter: drop-shadow(0px 1px 2px rgba(0, 0, 0, 0.3));\n",
              "      fill: #FFFFFF;\n",
              "    }\n",
              "  </style>\n",
              "\n",
              "      <script>\n",
              "        const buttonEl =\n",
              "          document.querySelector('#df-f19fd11b-9141-4363-81c6-af4cd047a717 button.colab-df-convert');\n",
              "        buttonEl.style.display =\n",
              "          google.colab.kernel.accessAllowed ? 'block' : 'none';\n",
              "\n",
              "        async function convertToInteractive(key) {\n",
              "          const element = document.querySelector('#df-f19fd11b-9141-4363-81c6-af4cd047a717');\n",
              "          const dataTable =\n",
              "            await google.colab.kernel.invokeFunction('convertToInteractive',\n",
              "                                                     [key], {});\n",
              "          if (!dataTable) return;\n",
              "\n",
              "          const docLinkHtml = 'Like what you see? Visit the ' +\n",
              "            '<a target=\"_blank\" href=https://colab.research.google.com/notebooks/data_table.ipynb>data table notebook</a>'\n",
              "            + ' to learn more about interactive tables.';\n",
              "          element.innerHTML = '';\n",
              "          dataTable['output_type'] = 'display_data';\n",
              "          await google.colab.output.renderOutput(dataTable, element);\n",
              "          const docLink = document.createElement('div');\n",
              "          docLink.innerHTML = docLinkHtml;\n",
              "          element.appendChild(docLink);\n",
              "        }\n",
              "      </script>\n",
              "    </div>\n",
              "  </div>\n",
              "  "
            ]
          },
          "metadata": {},
          "execution_count": 48
        }
      ]
    },
    {
      "cell_type": "code",
      "source": [
        "df.head(1)"
      ],
      "metadata": {
        "colab": {
          "base_uri": "https://localhost:8080/",
          "height": 110
        },
        "id": "y2mgxhrafAl8",
        "outputId": "7744d6c6-b784-4878-f62b-672e0f9c4422"
      },
      "execution_count": null,
      "outputs": [
        {
          "output_type": "execute_result",
          "data": {
            "text/plain": [
              "   F1R  F1S  F2R  F2S  F3R  F3S  F4R  F4S  F5R  F5S  ...  F18R  F18S  F19R  \\\n",
              "0   72   62   69   67   78   82   74   65   69   63  ...    65    71    63   \n",
              "\n",
              "   F19S  F20R  F20S  F21R  F21S  F22R  F22S  \n",
              "0    60    69    73    67    71    56    58  \n",
              "\n",
              "[1 rows x 44 columns]"
            ],
            "text/html": [
              "\n",
              "  <div id=\"df-94634ce4-541b-482b-9f60-4cdafd741d4e\">\n",
              "    <div class=\"colab-df-container\">\n",
              "      <div>\n",
              "<style scoped>\n",
              "    .dataframe tbody tr th:only-of-type {\n",
              "        vertical-align: middle;\n",
              "    }\n",
              "\n",
              "    .dataframe tbody tr th {\n",
              "        vertical-align: top;\n",
              "    }\n",
              "\n",
              "    .dataframe thead th {\n",
              "        text-align: right;\n",
              "    }\n",
              "</style>\n",
              "<table border=\"1\" class=\"dataframe\">\n",
              "  <thead>\n",
              "    <tr style=\"text-align: right;\">\n",
              "      <th></th>\n",
              "      <th>F1R</th>\n",
              "      <th>F1S</th>\n",
              "      <th>F2R</th>\n",
              "      <th>F2S</th>\n",
              "      <th>F3R</th>\n",
              "      <th>F3S</th>\n",
              "      <th>F4R</th>\n",
              "      <th>F4S</th>\n",
              "      <th>F5R</th>\n",
              "      <th>F5S</th>\n",
              "      <th>...</th>\n",
              "      <th>F18R</th>\n",
              "      <th>F18S</th>\n",
              "      <th>F19R</th>\n",
              "      <th>F19S</th>\n",
              "      <th>F20R</th>\n",
              "      <th>F20S</th>\n",
              "      <th>F21R</th>\n",
              "      <th>F21S</th>\n",
              "      <th>F22R</th>\n",
              "      <th>F22S</th>\n",
              "    </tr>\n",
              "  </thead>\n",
              "  <tbody>\n",
              "    <tr>\n",
              "      <th>0</th>\n",
              "      <td>72</td>\n",
              "      <td>62</td>\n",
              "      <td>69</td>\n",
              "      <td>67</td>\n",
              "      <td>78</td>\n",
              "      <td>82</td>\n",
              "      <td>74</td>\n",
              "      <td>65</td>\n",
              "      <td>69</td>\n",
              "      <td>63</td>\n",
              "      <td>...</td>\n",
              "      <td>65</td>\n",
              "      <td>71</td>\n",
              "      <td>63</td>\n",
              "      <td>60</td>\n",
              "      <td>69</td>\n",
              "      <td>73</td>\n",
              "      <td>67</td>\n",
              "      <td>71</td>\n",
              "      <td>56</td>\n",
              "      <td>58</td>\n",
              "    </tr>\n",
              "  </tbody>\n",
              "</table>\n",
              "<p>1 rows × 44 columns</p>\n",
              "</div>\n",
              "      <button class=\"colab-df-convert\" onclick=\"convertToInteractive('df-94634ce4-541b-482b-9f60-4cdafd741d4e')\"\n",
              "              title=\"Convert this dataframe to an interactive table.\"\n",
              "              style=\"display:none;\">\n",
              "        \n",
              "  <svg xmlns=\"http://www.w3.org/2000/svg\" height=\"24px\"viewBox=\"0 0 24 24\"\n",
              "       width=\"24px\">\n",
              "    <path d=\"M0 0h24v24H0V0z\" fill=\"none\"/>\n",
              "    <path d=\"M18.56 5.44l.94 2.06.94-2.06 2.06-.94-2.06-.94-.94-2.06-.94 2.06-2.06.94zm-11 1L8.5 8.5l.94-2.06 2.06-.94-2.06-.94L8.5 2.5l-.94 2.06-2.06.94zm10 10l.94 2.06.94-2.06 2.06-.94-2.06-.94-.94-2.06-.94 2.06-2.06.94z\"/><path d=\"M17.41 7.96l-1.37-1.37c-.4-.4-.92-.59-1.43-.59-.52 0-1.04.2-1.43.59L10.3 9.45l-7.72 7.72c-.78.78-.78 2.05 0 2.83L4 21.41c.39.39.9.59 1.41.59.51 0 1.02-.2 1.41-.59l7.78-7.78 2.81-2.81c.8-.78.8-2.07 0-2.86zM5.41 20L4 18.59l7.72-7.72 1.47 1.35L5.41 20z\"/>\n",
              "  </svg>\n",
              "      </button>\n",
              "      \n",
              "  <style>\n",
              "    .colab-df-container {\n",
              "      display:flex;\n",
              "      flex-wrap:wrap;\n",
              "      gap: 12px;\n",
              "    }\n",
              "\n",
              "    .colab-df-convert {\n",
              "      background-color: #E8F0FE;\n",
              "      border: none;\n",
              "      border-radius: 50%;\n",
              "      cursor: pointer;\n",
              "      display: none;\n",
              "      fill: #1967D2;\n",
              "      height: 32px;\n",
              "      padding: 0 0 0 0;\n",
              "      width: 32px;\n",
              "    }\n",
              "\n",
              "    .colab-df-convert:hover {\n",
              "      background-color: #E2EBFA;\n",
              "      box-shadow: 0px 1px 2px rgba(60, 64, 67, 0.3), 0px 1px 3px 1px rgba(60, 64, 67, 0.15);\n",
              "      fill: #174EA6;\n",
              "    }\n",
              "\n",
              "    [theme=dark] .colab-df-convert {\n",
              "      background-color: #3B4455;\n",
              "      fill: #D2E3FC;\n",
              "    }\n",
              "\n",
              "    [theme=dark] .colab-df-convert:hover {\n",
              "      background-color: #434B5C;\n",
              "      box-shadow: 0px 1px 3px 1px rgba(0, 0, 0, 0.15);\n",
              "      filter: drop-shadow(0px 1px 2px rgba(0, 0, 0, 0.3));\n",
              "      fill: #FFFFFF;\n",
              "    }\n",
              "  </style>\n",
              "\n",
              "      <script>\n",
              "        const buttonEl =\n",
              "          document.querySelector('#df-94634ce4-541b-482b-9f60-4cdafd741d4e button.colab-df-convert');\n",
              "        buttonEl.style.display =\n",
              "          google.colab.kernel.accessAllowed ? 'block' : 'none';\n",
              "\n",
              "        async function convertToInteractive(key) {\n",
              "          const element = document.querySelector('#df-94634ce4-541b-482b-9f60-4cdafd741d4e');\n",
              "          const dataTable =\n",
              "            await google.colab.kernel.invokeFunction('convertToInteractive',\n",
              "                                                     [key], {});\n",
              "          if (!dataTable) return;\n",
              "\n",
              "          const docLinkHtml = 'Like what you see? Visit the ' +\n",
              "            '<a target=\"_blank\" href=https://colab.research.google.com/notebooks/data_table.ipynb>data table notebook</a>'\n",
              "            + ' to learn more about interactive tables.';\n",
              "          element.innerHTML = '';\n",
              "          dataTable['output_type'] = 'display_data';\n",
              "          await google.colab.output.renderOutput(dataTable, element);\n",
              "          const docLink = document.createElement('div');\n",
              "          docLink.innerHTML = docLinkHtml;\n",
              "          element.appendChild(docLink);\n",
              "        }\n",
              "      </script>\n",
              "    </div>\n",
              "  </div>\n",
              "  "
            ]
          },
          "metadata": {},
          "execution_count": 49
        }
      ]
    },
    {
      "cell_type": "code",
      "source": [
        "from sklearn.decomposition import PCA\n",
        "pca = PCA().fit(df)\n",
        "#Plotting the Cumulative Summation of the Explained Variance\n",
        "plt.figure()\n",
        "plt.plot(np.cumsum(pca.explained_variance_ratio_))\n",
        "plt.xlabel('Number of Components')\n",
        "plt.ylabel('Variance (%)') #for each component\n",
        "plt.title('Pulsar Dataset Explained Variance')\n",
        "plt.show()"
      ],
      "metadata": {
        "colab": {
          "base_uri": "https://localhost:8080/",
          "height": 294
        },
        "id": "Z-E1-hBvfEsA",
        "outputId": "690f0d40-6dce-4529-f3c5-570313087994"
      },
      "execution_count": null,
      "outputs": [
        {
          "output_type": "display_data",
          "data": {
            "text/plain": [
              "<Figure size 432x288 with 1 Axes>"
            ],
            "image/png": "[encoded data removed]"
          },
          "metadata": {
            "needs_background": "light"
          }
        }
      ]
    },
    {
      "cell_type": "code",
      "source": [
        "pc=PCA(n_components=34,svd_solver='randomized').fit(df)"
      ],
      "metadata": {
        "id": "WbmeO9jofNCW"
      },
      "execution_count": null,
      "outputs": []
    },
    {
      "cell_type": "code",
      "source": [
        "x_train=pca.transform(df)"
      ],
      "metadata": {
        "id": "z3-iXJmrfOvI"
      },
      "execution_count": null,
      "outputs": []
    },
    {
      "cell_type": "code",
      "source": [
        "x_train\n"
      ],
      "metadata": {
        "colab": {
          "base_uri": "https://localhost:8080/"
        },
        "id": "VVPTq4pEfQYg",
        "outputId": "5f1944e7-12d9-4b1c-ce0a-8476efbd528d"
      },
      "execution_count": null,
      "outputs": [
        {
          "output_type": "execute_result",
          "data": {
            "text/plain": [
              "array([[-2.25153691e+01,  4.43400602e+00,  1.09025298e+01, ...,\n",
              "         2.36547079e-01, -1.90600607e-01, -1.54656216e-01],\n",
              "       [ 2.40190220e+01, -3.16216506e+01,  1.86551363e+01, ...,\n",
              "        -8.22678816e-01, -1.57392166e+00, -1.01786125e+00],\n",
              "       [-2.19734319e+00,  1.43263594e+01, -1.25115570e+01, ...,\n",
              "         7.13284185e-01, -1.66991206e+00, -1.20327601e+00],\n",
              "       ...,\n",
              "       [-2.00323653e+01,  1.40177059e+01, -9.34358705e+00, ...,\n",
              "        -7.95600589e-01,  5.07720674e-01,  2.11010169e-02],\n",
              "       [ 6.43860906e+00, -1.74391901e+01, -6.30872656e+00, ...,\n",
              "        -4.38786023e-01, -7.58102783e-01,  3.83601119e-01],\n",
              "       [-1.04968178e+01,  8.34998664e+00,  3.96402167e+00, ...,\n",
              "         7.85465149e-01,  2.21166304e-01, -4.88880228e-01]])"
            ]
          },
          "metadata": {},
          "execution_count": 53
        }
      ]
    },
    {
      "cell_type": "code",
      "source": [
        "x_test=pca.transform(dft)\n",
        "x_test\n",
        "# Transform Test with PCA"
      ],
      "metadata": {
        "colab": {
          "base_uri": "https://localhost:8080/"
        },
        "id": "W3oId0Q2fV3G",
        "outputId": "b456c04f-b761-4a2e-c086-1bc23bda9b22"
      },
      "execution_count": null,
      "outputs": [
        {
          "output_type": "execute_result",
          "data": {
            "text/plain": [
              "array([[ -1.17530963, -10.80210189,   1.69345964, ...,   0.6992736 ,\n",
              "          1.08949346,  -0.57320507],\n",
              "       [  8.4969187 ,  -7.7891098 ,  -1.81119436, ...,  -4.35426022,\n",
              "          3.98596719,   0.70649879],\n",
              "       [ -7.50081378,  -5.72300766,  16.19286928, ...,   3.68446802,\n",
              "         -1.84276515,   0.83848757],\n",
              "       ...,\n",
              "       [-30.19021928,  -0.3435545 ,  -8.16100715, ...,  -1.46218476,\n",
              "          0.79210118,   3.20569344],\n",
              "       [-26.59534356,  10.57124998,  -7.1436282 , ...,  -2.58869222,\n",
              "         -1.93432059,  -0.07608877],\n",
              "       [-11.28520906,  -8.83121585,   9.72864556, ...,  -3.21410934,\n",
              "          1.31835611,  -0.17280859]])"
            ]
          },
          "metadata": {},
          "execution_count": 54
        }
      ]
    },
    {
      "cell_type": "markdown",
      "source": [
        "#Naive Bayes"
      ],
      "metadata": {
        "id": "C9bhFWuuDgGj"
      }
    },
    {
      "cell_type": "code",
      "source": [
        "\n",
        "from sklearn.naive_bayes import GaussianNB\n",
        "naive=GaussianNB().fit(x_train,target)\n",
        "naive_prediction=naive.predict(x_test)\n",
        "accuracy_score(test_target,naive_prediction)"
      ],
      "metadata": {
        "colab": {
          "base_uri": "https://localhost:8080/"
        },
        "id": "LlpRCEgODQFu",
        "outputId": "d53599db-13c3-4f98-e530-50232b1d94f4"
      },
      "execution_count": null,
      "outputs": [
        {
          "output_type": "stream",
          "name": "stderr",
          "text": [
            "/usr/local/lib/python3.7/dist-packages/sklearn/utils/validation.py:993: DataConversionWarning: A column-vector y was passed when a 1d array was expected. Please change the shape of y to (n_samples, ), for example using ravel().\n",
            "  y = column_or_1d(y, warn=True)\n"
          ]
        },
        {
          "output_type": "execute_result",
          "data": {
            "text/plain": [
              "0.45698924731182794"
            ]
          },
          "metadata": {},
          "execution_count": 55
        }
      ]
    },
    {
      "cell_type": "code",
      "source": [
        "from sklearn.metrics import confusion_matrix,plot_confusion_matrix\n",
        "import matplotlib.pyplot as plt\n",
        "#confusion_matrix(test_target, pred_val)\n",
        "plot_confusion_matrix(naive,x_test,test_target)\n",
        "#ConfusionMatrixDisplay.from_predictions(test_target, naive_prediction)"
      ],
      "metadata": {
        "colab": {
          "base_uri": "https://localhost:8080/",
          "height": 356
        },
        "id": "Nf2CXxn0jz7H",
        "outputId": "b7dbb8dc-7797-4536-bb3b-b6de0dfea822"
      },
      "execution_count": null,
      "outputs": [
        {
          "output_type": "stream",
          "name": "stderr",
          "text": [
            "/usr/local/lib/python3.7/dist-packages/sklearn/utils/deprecation.py:87: FutureWarning: Function plot_confusion_matrix is deprecated; Function `plot_confusion_matrix` is deprecated in 1.0 and will be removed in 1.2. Use one of the class methods: ConfusionMatrixDisplay.from_predictions or ConfusionMatrixDisplay.from_estimator.\n",
            "  warnings.warn(msg, category=FutureWarning)\n"
          ]
        },
        {
          "output_type": "execute_result",
          "data": {
            "text/plain": [
              "<sklearn.metrics._plot.confusion_matrix.ConfusionMatrixDisplay at 0x7f283f03b290>"
            ]
          },
          "metadata": {},
          "execution_count": 56
        },
        {
          "output_type": "display_data",
          "data": {
            "text/plain": [
              "<Figure size 432x288 with 2 Axes>"
            ],
            "image/png": "[encoded data removed]"
          },
          "metadata": {
            "needs_background": "light"
          }
        }
      ]
    },
    {
      "cell_type": "code",
      "source": [
        "# See where everything falls (which class) as well as accuracy\n",
        "from sklearn.metrics import classification_report\n",
        "target_names = ['class 0', 'class 1']\n",
        "print(classification_report(test_target, naive_prediction, target_names=target_names))"
      ],
      "metadata": {
        "colab": {
          "base_uri": "https://localhost:8080/"
        },
        "id": "DfAL-V-zjWCv",
        "outputId": "9b0d9948-7fa0-405e-d0ac-d5e515849846"
      },
      "execution_count": null,
      "outputs": [
        {
          "output_type": "stream",
          "name": "stdout",
          "text": [
            "              precision    recall  f1-score   support\n",
            "\n",
            "     class 0       0.13      1.00      0.23        15\n",
            "     class 1       1.00      0.41      0.58       171\n",
            "\n",
            "    accuracy                           0.46       186\n",
            "   macro avg       0.56      0.70      0.40       186\n",
            "weighted avg       0.93      0.46      0.55       186\n",
            "\n"
          ]
        }
      ]
    },
    {
      "cell_type": "markdown",
      "source": [
        "#Support Vector Machines"
      ],
      "metadata": {
        "id": "yVyQwz3CDlyk"
      }
    },
    {
      "cell_type": "code",
      "source": [
        "from sklearn import svm"
      ],
      "metadata": {
        "id": "iXKssZGRjZLL"
      },
      "execution_count": null,
      "outputs": []
    },
    {
      "cell_type": "markdown",
      "source": [
        "**Kernel: Linear Kernel ; C=10**"
      ],
      "metadata": {
        "id": "dbISJV3yDuaS"
      }
    },
    {
      "cell_type": "code",
      "source": [
        "# Accuracy check\n",
        "svc=svm.SVC(kernel='linear',C=10)\n",
        "svc.fit(x_train,target)\n",
        "pred_val=svc.predict(x_test)\n",
        "accuracy_score(test_target,pred_val)\n"
      ],
      "metadata": {
        "colab": {
          "base_uri": "https://localhost:8080/"
        },
        "id": "KTKNrNZxjbn3",
        "outputId": "87230cb9-097c-4572-b518-900a5ee2b3e9"
      },
      "execution_count": null,
      "outputs": [
        {
          "output_type": "stream",
          "name": "stderr",
          "text": [
            "/usr/local/lib/python3.7/dist-packages/sklearn/utils/validation.py:993: DataConversionWarning: A column-vector y was passed when a 1d array was expected. Please change the shape of y to (n_samples, ), for example using ravel().\n",
            "  y = column_or_1d(y, warn=True)\n"
          ]
        },
        {
          "output_type": "execute_result",
          "data": {
            "text/plain": [
              "0.7258064516129032"
            ]
          },
          "metadata": {},
          "execution_count": 76
        }
      ]
    },
    {
      "cell_type": "markdown",
      "source": [
        "**SVM (1) 73%**"
      ],
      "metadata": {
        "id": "gBsVxaCGls0G"
      }
    },
    {
      "cell_type": "code",
      "source": [
        "from sklearn.metrics import confusion_matrix\n",
        "#confusion_matrix(test_target, pred_val)\n",
        "plot_confusion_matrix(svc,x_test,test_target)"
      ],
      "metadata": {
        "colab": {
          "base_uri": "https://localhost:8080/",
          "height": 354
        },
        "id": "d3p2qoSejeoA",
        "outputId": "b523417d-2856-44eb-dd7a-8da9e86702d2"
      },
      "execution_count": null,
      "outputs": [
        {
          "output_type": "stream",
          "name": "stderr",
          "text": [
            "/usr/local/lib/python3.7/dist-packages/sklearn/utils/deprecation.py:87: FutureWarning: Function plot_confusion_matrix is deprecated; Function `plot_confusion_matrix` is deprecated in 1.0 and will be removed in 1.2. Use one of the class methods: ConfusionMatrixDisplay.from_predictions or ConfusionMatrixDisplay.from_estimator.\n",
            "  warnings.warn(msg, category=FutureWarning)\n"
          ]
        },
        {
          "output_type": "execute_result",
          "data": {
            "text/plain": [
              "<sklearn.metrics._plot.confusion_matrix.ConfusionMatrixDisplay at 0x7f28421c5510>"
            ]
          },
          "metadata": {},
          "execution_count": 77
        },
        {
          "output_type": "display_data",
          "data": {
            "text/plain": [
              "<Figure size 432x288 with 2 Axes>"
            ],
            "image/png": "[encoded data removed]"
          },
          "metadata": {
            "needs_background": "light"
          }
        }
      ]
    },
    {
      "cell_type": "code",
      "source": [
        "from sklearn.metrics import classification_report\n",
        "target_names = ['class 0', 'class 1']\n",
        "print(classification_report(test_target, pred_val, target_names=target_names))\n",
        "# see class and accuracy score"
      ],
      "metadata": {
        "colab": {
          "base_uri": "https://localhost:8080/"
        },
        "id": "GlpqrC0AkS5f",
        "outputId": "8047b9a9-0059-4f80-ae6a-0d850cdcb7fe"
      },
      "execution_count": null,
      "outputs": [
        {
          "output_type": "stream",
          "name": "stdout",
          "text": [
            "              precision    recall  f1-score   support\n",
            "\n",
            "     class 0       0.14      0.47      0.22        15\n",
            "     class 1       0.94      0.75      0.83       171\n",
            "\n",
            "    accuracy                           0.73       186\n",
            "   macro avg       0.54      0.61      0.52       186\n",
            "weighted avg       0.88      0.73      0.78       186\n",
            "\n"
          ]
        }
      ]
    },
    {
      "cell_type": "markdown",
      "source": [
        "**Kernel: RBF ; C=940 ; Gamma = 0.0034**"
      ],
      "metadata": {
        "id": "6onGZiItD-_q"
      }
    },
    {
      "cell_type": "code",
      "source": [
        "# Accuracy score has increased here \n",
        "svc=svm.SVC(kernel='rbf',gamma=0.0034,C=940)\n",
        "svc.fit(df,target)\n",
        "pred_val=svc.predict(dft)\n",
        "accuracy_score(test_target,pred_val)"
      ],
      "metadata": {
        "colab": {
          "base_uri": "https://localhost:8080/"
        },
        "id": "1Q_YqVf1kXaP",
        "outputId": "e2f74caa-6679-4077-eb3b-65583980f40c"
      },
      "execution_count": null,
      "outputs": [
        {
          "output_type": "stream",
          "name": "stderr",
          "text": [
            "/usr/local/lib/python3.7/dist-packages/sklearn/utils/validation.py:993: DataConversionWarning: A column-vector y was passed when a 1d array was expected. Please change the shape of y to (n_samples, ), for example using ravel().\n",
            "  y = column_or_1d(y, warn=True)\n"
          ]
        },
        {
          "output_type": "execute_result",
          "data": {
            "text/plain": [
              "0.8118279569892473"
            ]
          },
          "metadata": {},
          "execution_count": 85
        }
      ]
    },
    {
      "cell_type": "markdown",
      "source": [
        "**SVM(2) 81%**"
      ],
      "metadata": {
        "id": "hhZhJGyVl06S"
      }
    },
    {
      "cell_type": "code",
      "source": [
        "from sklearn.metrics import confusion_matrix\n",
        "confusion_matrix(test_target, pred_val)\n",
        "plot_confusion_matrix(svc,x_test,test_target)"
      ],
      "metadata": {
        "colab": {
          "base_uri": "https://localhost:8080/",
          "height": 391
        },
        "id": "9b9E6F1SkZ4-",
        "outputId": "9295946f-a425-4802-b11b-c5b0c7efb7fa"
      },
      "execution_count": null,
      "outputs": [
        {
          "output_type": "stream",
          "name": "stderr",
          "text": [
            "/usr/local/lib/python3.7/dist-packages/sklearn/utils/deprecation.py:87: FutureWarning: Function plot_confusion_matrix is deprecated; Function `plot_confusion_matrix` is deprecated in 1.0 and will be removed in 1.2. Use one of the class methods: ConfusionMatrixDisplay.from_predictions or ConfusionMatrixDisplay.from_estimator.\n",
            "  warnings.warn(msg, category=FutureWarning)\n",
            "/usr/local/lib/python3.7/dist-packages/sklearn/base.py:451: UserWarning: X does not have valid feature names, but SVC was fitted with feature names\n",
            "  \"X does not have valid feature names, but\"\n"
          ]
        },
        {
          "output_type": "execute_result",
          "data": {
            "text/plain": [
              "<sklearn.metrics._plot.confusion_matrix.ConfusionMatrixDisplay at 0x7f283ea83b90>"
            ]
          },
          "metadata": {},
          "execution_count": 86
        },
        {
          "output_type": "display_data",
          "data": {
            "text/plain": [
              "<Figure size 432x288 with 2 Axes>"
            ],
            "image/png": "[encoded data removed]"
          },
          "metadata": {
            "needs_background": "light"
          }
        }
      ]
    },
    {
      "cell_type": "code",
      "source": [
        "from sklearn.metrics import classification_report\n",
        "target_names = ['class 0', 'class 1']\n",
        "print(classification_report(test_target, pred_val, target_names=target_names))"
      ],
      "metadata": {
        "colab": {
          "base_uri": "https://localhost:8080/"
        },
        "id": "NzT9BP6Lkcdx",
        "outputId": "a8a9a867-e2a3-4422-959b-4a294324cbfb"
      },
      "execution_count": null,
      "outputs": [
        {
          "output_type": "stream",
          "name": "stdout",
          "text": [
            "              precision    recall  f1-score   support\n",
            "\n",
            "     class 0       0.24      0.67      0.36        15\n",
            "     class 1       0.97      0.82      0.89       171\n",
            "\n",
            "    accuracy                           0.81       186\n",
            "   macro avg       0.60      0.74      0.62       186\n",
            "weighted avg       0.91      0.81      0.84       186\n",
            "\n"
          ]
        }
      ]
    },
    {
      "cell_type": "markdown",
      "source": [
        "**Kernel: Gaussian Kernel ; C=940 ; Gamma = 0.004**"
      ],
      "metadata": {
        "id": "EcfIA6yuEJ86"
      }
    },
    {
      "cell_type": "code",
      "source": [
        "\n",
        "from sklearn.gaussian_process.kernels import RBF\n",
        "gsvc=svm.SVC(kernel=RBF(),C=940,gamma=0.004).fit(x_train,target)\n",
        "predict_gsvc=gsvc.predict(x_test)\n",
        "accuracy_score(test_target,predict_gsvc)"
      ],
      "metadata": {
        "colab": {
          "base_uri": "https://localhost:8080/"
        },
        "id": "18hUeHYAkgoX",
        "outputId": "d42eaee7-de24-4337-a988-57e018949b65"
      },
      "execution_count": null,
      "outputs": [
        {
          "output_type": "stream",
          "name": "stderr",
          "text": [
            "/usr/local/lib/python3.7/dist-packages/sklearn/svm/_base.py:715: DataConversionWarning: A column-vector y was passed when a 1d array was expected. Please change the shape of y to (n_samples, ), for example using ravel().\n",
            "  y_ = column_or_1d(y, warn=True)\n"
          ]
        },
        {
          "output_type": "execute_result",
          "data": {
            "text/plain": [
              "0.08064516129032258"
            ]
          },
          "metadata": {},
          "execution_count": 87
        }
      ]
    },
    {
      "cell_type": "markdown",
      "source": [
        "**SVM (3) 0.08%**"
      ],
      "metadata": {
        "id": "cuBJ3vH7l8XH"
      }
    },
    {
      "cell_type": "code",
      "source": [
        "from sklearn.metrics import confusion_matrix\n",
        "#confusion_matrix(test_target, predict_gsvc)\n",
        "plot_confusion_matrix(gsvc,x_test,test_target)\n",
        "#ConfusionMatrixDisplay.from_predictions(test_target, predict_gsvc)"
      ],
      "metadata": {
        "colab": {
          "base_uri": "https://localhost:8080/",
          "height": 354
        },
        "id": "XMxDFwXdkjeP",
        "outputId": "045c62eb-c353-4d11-d12e-8dc1e50c4be8"
      },
      "execution_count": null,
      "outputs": [
        {
          "output_type": "stream",
          "name": "stderr",
          "text": [
            "/usr/local/lib/python3.7/dist-packages/sklearn/utils/deprecation.py:87: FutureWarning: Function plot_confusion_matrix is deprecated; Function `plot_confusion_matrix` is deprecated in 1.0 and will be removed in 1.2. Use one of the class methods: ConfusionMatrixDisplay.from_predictions or ConfusionMatrixDisplay.from_estimator.\n",
            "  warnings.warn(msg, category=FutureWarning)\n"
          ]
        },
        {
          "output_type": "execute_result",
          "data": {
            "text/plain": [
              "<sklearn.metrics._plot.confusion_matrix.ConfusionMatrixDisplay at 0x7f283eb60810>"
            ]
          },
          "metadata": {},
          "execution_count": 83
        },
        {
          "output_type": "display_data",
          "data": {
            "text/plain": [
              "<Figure size 432x288 with 2 Axes>"
            ],
            "image/png": "[encoded data removed]"
          },
          "metadata": {
            "needs_background": "light"
          }
        }
      ]
    },
    {
      "cell_type": "code",
      "source": [
        "from sklearn.metrics import classification_report\n",
        "target_names = ['class 0', 'class 1']\n",
        "print(classification_report(test_target, predict_gsvc, target_names=target_names))"
      ],
      "metadata": {
        "colab": {
          "base_uri": "https://localhost:8080/"
        },
        "id": "4DyqDCgPkqj8",
        "outputId": "0407045a-1c9a-4963-eaa8-ce5f5f11657d"
      },
      "execution_count": null,
      "outputs": [
        {
          "output_type": "stream",
          "name": "stdout",
          "text": [
            "              precision    recall  f1-score   support\n",
            "\n",
            "     class 0       0.08      1.00      0.15        15\n",
            "     class 1       0.00      0.00      0.00       171\n",
            "\n",
            "    accuracy                           0.08       186\n",
            "   macro avg       0.04      0.50      0.07       186\n",
            "weighted avg       0.01      0.08      0.01       186\n",
            "\n"
          ]
        },
        {
          "output_type": "stream",
          "name": "stderr",
          "text": [
            "/usr/local/lib/python3.7/dist-packages/sklearn/metrics/_classification.py:1318: UndefinedMetricWarning: Precision and F-score are ill-defined and being set to 0.0 in labels with no predicted samples. Use `zero_division` parameter to control this behavior.\n",
            "  _warn_prf(average, modifier, msg_start, len(result))\n",
            "/usr/local/lib/python3.7/dist-packages/sklearn/metrics/_classification.py:1318: UndefinedMetricWarning: Precision and F-score are ill-defined and being set to 0.0 in labels with no predicted samples. Use `zero_division` parameter to control this behavior.\n",
            "  _warn_prf(average, modifier, msg_start, len(result))\n",
            "/usr/local/lib/python3.7/dist-packages/sklearn/metrics/_classification.py:1318: UndefinedMetricWarning: Precision and F-score are ill-defined and being set to 0.0 in labels with no predicted samples. Use `zero_division` parameter to control this behavior.\n",
            "  _warn_prf(average, modifier, msg_start, len(result))\n"
          ]
        }
      ]
    },
    {
      "cell_type": "markdown",
      "source": [
        ""
      ],
      "metadata": {
        "id": "1W9LpkB4kgKZ"
      }
    }
  ]
}